{
 "cells": [
  {
   "cell_type": "markdown",
   "metadata": {},
   "source": [
    "# Evolutionary Algorithm Examples"
   ]
  },
  {
   "cell_type": "markdown",
   "metadata": {},
   "source": [
    "- Lets start with a simple example: Optimizing the function y = x^2\n"
   ]
  },
  {
   "cell_type": "code",
   "execution_count": null,
   "metadata": {},
   "outputs": [],
   "source": [
    "import numpy as np\n",
    "import matplotlib.pyplot as plt\n",
    "from mpl_toolkits.mplot3d import Axes3D\n",
    "from matplotlib import cm\n",
    "import math\n",
    "%matplotlib inline\n",
    "\n",
    "N       = 10 #Number of parents / Population size\n",
    "Var     = 1   #Mutation parameter\n",
    "maxIter = 20 #Number of iterations"
   ]
  },
  {
   "cell_type": "code",
   "execution_count": null,
   "metadata": {},
   "outputs": [],
   "source": [
    "def plot_evo(X):\n",
    "    xx = np.arange(-10,10,.1)\n",
    "    yy = xx**2\n",
    "    plt.figure()\n",
    "    plt.plot(xx,yy)\n",
    "    plt.scatter(X,np.ones(X.shape),20,'r')"
   ]
  },
  {
   "cell_type": "code",
   "execution_count": null,
   "metadata": {},
   "outputs": [],
   "source": [
    "#Initialize parents\n",
    "X = np.random.random((1,N))*20-10\n",
    "\n",
    "for iter in range(maxIter):\n",
    "    # mutation to produce offspring\n",
    "    Xm = np.hstack((X,X+np.random.randn(1,N)))\n",
    "\n",
    "    # compute f(x)\n",
    "    fX = Xm**2\n",
    "\n",
    "    # sort\n",
    "    indSort = np.argsort(fX)[0]\n",
    "\n",
    "    # get new population\n",
    "    X = Xm[:,indSort[:N]]\n",
    "\n",
    "    # plot each iteration\n",
    "    plot_evo(X)\n",
    "    plt.title(f\"iter {iter}\")"
   ]
  },
  {
   "cell_type": "code",
   "execution_count": null,
   "metadata": {},
   "outputs": [],
   "source": [
    "xx = np.random.random((1,N))*20-10\n",
    "yy = np.random.random((1,N))*20-10\n",
    "\n",
    "def plot_evo_2(xx,yy):    \n",
    "    fig = plt.figure()\n",
    "    ax = fig.gca(projection='3d')\n",
    "\n",
    "    X = np.arange(-10, 10, 0.05)\n",
    "    Y = np.arange(-10, 10, 0.05)\n",
    "    X, Y = np.meshgrid(X, Y)\n",
    "    Z = 20+ X**2-10*np.cos(2*math.pi*X) + Y**2-10*np.cos(2*math.pi*Y)\n",
    "\n",
    "    # Plot the surface.\n",
    "    surf = ax.plot_surface(X, Y, Z, cmap=cm.coolwarm, linewidth=0, antialiased=False)\n",
    "    ax.view_init(60, 170)\n",
    "    zz = 20+ xx**2-10*np.cos(2*math.pi*xx) + yy**2-10*np.cos(2*math.pi*yy) + 500\n",
    "    ax.scatter(xx,yy,zz,s=20, c='r')\n",
    "\n",
    "plot_evo_2(xx,yy)"
   ]
  },
  {
   "cell_type": "code",
   "execution_count": null,
   "metadata": {},
   "outputs": [],
   "source": [
    "for iter in range(maxIter):\n",
    "    # mutation to produce offspring\n",
    "    xx_m = np.hstack((xx,xx+(np.random.randn(1,N)*.1)))\n",
    "    yy_m = np.hstack((yy,yy+(np.random.randn(1,N)*.1)))\n",
    "                        \n",
    "    # compute f(x)\n",
    "    fX = 20 + xx_m**2 -10*np.cos(2*math.pi*xx_m) + yy_m**2-10*np.cos(2*math.pi*yy_m)\n",
    "    \n",
    "    # sort\n",
    "    indSort = np.argsort(fX)[0]\n",
    "\n",
    "    # get new population\n",
    "\n",
    "    xx = xx_m[:,indSort[:N]]\n",
    "    yy = yy_m[:,indSort[:N]]\n",
    "\n",
    "    # plot each iteration\n",
    "    plot_evo_2(xx,yy)\n",
    "    plt.title(f\"iter {iter}\")\n",
    "    \n",
    "indSort = np.argsort(fX)[0]    \n",
    "xx = xx_m[:,indSort[0]]\n",
    "yy = yy_m[:,indSort[0]]\n",
    "print(xx)\n",
    "print(yy)"
   ]
  },
  {
   "cell_type": "code",
   "execution_count": null,
   "metadata": {},
   "outputs": [],
   "source": []
  },
  {
   "cell_type": "code",
   "execution_count": null,
   "metadata": {},
   "outputs": [],
   "source": []
  }
 ],
 "metadata": {
  "kernelspec": {
   "display_name": "Python 3",
   "language": "python",
   "name": "python3"
  },
  "language_info": {
   "codemirror_mode": {
    "name": "ipython",
    "version": 3
   },
   "file_extension": ".py",
   "mimetype": "text/x-python",
   "name": "python",
   "nbconvert_exporter": "python",
   "pygments_lexer": "ipython3",
   "version": "3.6.6"
  }
 },
 "nbformat": 4,
 "nbformat_minor": 1
}
